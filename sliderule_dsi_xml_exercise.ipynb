{
 "cells": [
  {
   "cell_type": "markdown",
   "metadata": {},
   "source": [
    "# XML example and exercise\n",
    "****\n",
    "+ study examples of accessing nodes in XML tree structure  \n",
    "+ work on exercise to be completed and submitted\n",
    "****\n",
    "+ reference: https://docs.python.org/2.7/library/xml.etree.elementtree.html\n",
    "+ data source: http://www.dbis.informatik.uni-goettingen.de/Mondial\n",
    "****"
   ]
  },
  {
   "cell_type": "code",
   "execution_count": 1,
   "metadata": {
    "collapsed": true
   },
   "outputs": [],
   "source": [
    "from xml.etree import ElementTree as ET"
   ]
  },
  {
   "cell_type": "markdown",
   "metadata": {},
   "source": [
    "## XML example\n",
    "\n",
    "+ for details about tree traversal and iterators, see https://docs.python.org/2.7/library/xml.etree.elementtree.html"
   ]
  },
  {
   "cell_type": "code",
   "execution_count": 14,
   "metadata": {
    "collapsed": false
   },
   "outputs": [
    {
     "data": {
      "text/plain": [
       "<xml.etree.ElementTree.ElementTree at 0x419a550>"
      ]
     },
     "execution_count": 14,
     "metadata": {},
     "output_type": "execute_result"
    }
   ],
   "source": [
    "document_tree = ET.parse( './data/mondial_database_less.xml' )\n",
    "document_tree"
   ]
  },
  {
   "cell_type": "code",
   "execution_count": 4,
   "metadata": {
    "collapsed": false
   },
   "outputs": [
    {
     "name": "stdout",
     "output_type": "stream",
     "text": [
      "Albania\n",
      "Greece\n",
      "Macedonia\n",
      "Serbia\n",
      "Montenegro\n",
      "Kosovo\n",
      "Andorra\n"
     ]
    }
   ],
   "source": [
    "# print names of all countries\n",
    "for child in document_tree.getroot():\n",
    "    print child.find('name').text\n",
    "    "
   ]
  },
  {
   "cell_type": "code",
   "execution_count": 5,
   "metadata": {
    "collapsed": false
   },
   "outputs": [
    {
     "name": "stdout",
     "output_type": "stream",
     "text": [
      "* Albania: Tirana, Shkodër, Durrës, Vlorë, Elbasan, Korçë\n",
      "* Greece: Komotini, Kavala, Athina, Peiraias, Peristeri, Acharnes, Patra, Kozani, Kerkyra, Ioannina, Thessaloniki, Iraklio, Chania, Ermoupoli, Rhodes, Tripoli, Lamia, Chalkida, Larissa, Volos, Mytilini, Karyes\n",
      "* Macedonia: Skopje, Kumanovo\n",
      "* Serbia: Beograd, Novi Sad, Niš\n",
      "* Montenegro: Podgorica\n",
      "* Kosovo: Prishtine\n",
      "* Andorra: Andorra la Vella\n"
     ]
    }
   ],
   "source": [
    "# print names of all countries and their cities\n",
    "for element in document_tree.iterfind('country'):\n",
    "    print '* ' + element.find('name').text + ':',\n",
    "    capitals_string = ''\n",
    "    for subelement in element.getiterator('city'):\n",
    "        capitals_string += subelement.find('name').text + ', '\n",
    "    print capitals_string[:-2]"
   ]
  },
  {
   "cell_type": "markdown",
   "metadata": {},
   "source": [
    "****\n",
    "## XML exercise\n",
    "\n",
    "Using data in 'data/mondial_database.xml', the examples above, and refering to https://docs.python.org/2.7/library/xml.etree.elementtree.html, find\n",
    "\n",
    "1. 10 countries with the lowest infant mortality rates\n",
    "2. 10 cities with the largest population\n",
    "3. 10 ethnic groups with the largest overall populations (sum of best/latest estimates over all countries)\n",
    "4. name and country of a) longest river, b) largest lake and c) airport at highest elevation"
   ]
  },
  {
   "cell_type": "code",
   "execution_count": 3,
   "metadata": {
    "collapsed": true
   },
   "outputs": [],
   "source": [
    "document = ET.parse( './data/mondial_database.xml' )"
   ]
  },
  {
   "cell_type": "code",
   "execution_count": 4,
   "metadata": {
    "collapsed": true
   },
   "outputs": [],
   "source": [
    "root = document.getroot()"
   ]
  },
  {
   "cell_type": "code",
   "execution_count": null,
   "metadata": {
    "collapsed": true
   },
   "outputs": [],
   "source": []
  },
  {
   "cell_type": "code",
   "execution_count": 31,
   "metadata": {
    "collapsed": false
   },
   "outputs": [
    {
     "name": "stdout",
     "output_type": "stream",
     "text": [
      "Albania 13.19\n",
      "Greece 4.78\n",
      "Macedonia 7.9\n",
      "Serbia 6.16\n",
      "Montenegro N/A\n",
      "Kosovo N/A\n",
      "Andorra 3.69\n",
      "France 3.31\n",
      "Spain 3.33\n",
      "Austria 4.16\n",
      "Czech Republic 2.63\n",
      "Germany 3.46\n",
      "Hungary 5.09\n",
      "Italy 3.31\n",
      "Liechtenstein 4.33\n",
      "Slovakia 5.35\n",
      "Slovenia 4.04\n",
      "Switzerland 3.73\n",
      "Belarus 3.64\n",
      "Latvia 7.91\n",
      "Lithuania 6.0\n",
      "Poland 6.19\n",
      "Ukraine 8.1\n",
      "Russia 7.08\n",
      "Belgium 4.18\n",
      "Luxembourg 4.28\n",
      "Netherlands 3.66\n",
      "Bosnia and Herzegovina 5.84\n",
      "Croatia 5.87\n",
      "Bulgaria 15.08\n",
      "Romania 10.16\n",
      "Turkey 21.43\n",
      "Denmark 4.1\n",
      "Estonia 6.7\n",
      "Faroe Islands 5.71\n",
      "Finland 3.36\n",
      "Norway 2.48\n",
      "Sweden 2.6\n",
      "Monaco 1.81\n",
      "Gibraltar 6.29\n",
      "Guernsey 3.47\n",
      "Holy See N/A\n",
      "Ceuta N/A\n",
      "Melilla N/A\n",
      "Iceland 3.15\n",
      "Ireland 3.74\n",
      "San Marino 4.52\n",
      "Jersey 3.86\n",
      "Malta 3.59\n",
      "Isle of Man 4.17\n",
      "Moldova 12.93\n",
      "Portugal 4.48\n",
      "Svalbard N/A\n",
      "United Kingdom 4.44\n",
      "Afghanistan 117.23\n",
      "China 14.79\n",
      "Iran 39.0\n",
      "Pakistan 57.48\n",
      "Tajikistan 35.03\n",
      "Turkmenistan 38.13\n",
      "Uzbekistan 19.84\n",
      "Armenia 13.97\n",
      "Georgia 16.68\n",
      "Azerbaijan 26.67\n",
      "Bahrain 9.68\n",
      "Bangladesh 45.67\n",
      "Myanmar 44.91\n",
      "India 43.19\n",
      "Bhutan 37.89\n",
      "Brunei 10.48\n",
      "Malaysia 13.69\n",
      "Laos 54.53\n",
      "Thailand 9.86\n",
      "Cambodia 51.36\n",
      "Vietnam 18.99\n",
      "Kazakhstan 21.61\n",
      "North Korea 24.5\n",
      "Kyrgyzstan 28.71\n",
      "Hong Kong 2.73\n",
      "Macao 3.13\n",
      "Mongolia 23.15\n",
      "Nepal 40.43\n",
      "Christmas Island N/A\n",
      "Cocos Islands N/A\n",
      "Cyprus 8.54\n",
      "Gaza Strip 30.6\n",
      "Israel 3.98\n",
      "Egypt 22.41\n",
      "Indonesia 25.16\n",
      "Timor-Leste 38.79\n",
      "Papua New Guinea 39.67\n",
      "Iraq 37.53\n",
      "Jordan 15.73\n",
      "Kuwait 7.51\n",
      "Saudi Arabia 14.58\n",
      "Syria 15.79\n",
      "Lebanon 7.98\n",
      "West Bank 28.6\n",
      "Japan 2.13\n",
      "South Korea 3.93\n",
      "Maldives 24.59\n",
      "Oman 14.0\n",
      "United Arab Emirates 10.92\n",
      "Yemen 50.41\n",
      "Philippines 17.64\n",
      "Qatar 6.42\n",
      "Singapore 2.53\n",
      "Sri Lanka 9.02\n",
      "Taiwan 4.49\n",
      "Anguilla 3.4\n",
      "Antigua and Barbuda 13.29\n",
      "Aruba 11.74\n",
      "Bahamas 12.5\n",
      "Barbados 10.93\n",
      "Belize 20.31\n",
      "Guatemala 23.51\n",
      "Mexico 12.58\n",
      "Bermuda 2.48\n",
      "British Virgin Islands 13.45\n",
      "Canada 4.71\n",
      "United States 6.17\n",
      "Cayman Islands 6.21\n",
      "Costa Rica 8.7\n",
      "Nicaragua 20.36\n",
      "Panama 10.7\n",
      "Cuba 4.7\n",
      "Dominica 11.61\n",
      "Dominican Republic 19.63\n",
      "Haiti 49.43\n",
      "El Salvador 18.44\n",
      "Honduras 18.72\n",
      "Greenland 9.42\n",
      "Grenada 10.5\n",
      "Guadeloupe 8.3\n",
      "Jamaica 13.69\n",
      "Martinique 7.1\n",
      "Montserrat 13.66\n",
      "Curacao N/A\n",
      "Sint Maarten 9.05\n",
      "Saint Martin N/A\n",
      "Saint Barthelemy N/A\n",
      "Colombia 15.02\n",
      "Puerto Rico 7.73\n",
      "Saint Kitts and Nevis 8.98\n",
      "Saint Lucia 11.75\n",
      "Saint Pierre and Miquelon 6.95\n",
      "Saint Vincent and the Grenadines 13.07\n",
      "Trinidad and Tobago 24.82\n",
      "Turks and Caicos Islands 10.97\n",
      "Virgin Islands 6.79\n",
      "American Samoa 8.92\n",
      "Australia 4.43\n",
      "Cook Islands 14.33\n",
      "Fiji 10.2\n",
      "French Polynesia 4.78\n",
      "Guam 5.51\n",
      "Kiribati 35.37\n",
      "Marshall Islands 21.39\n",
      "Micronesia 21.93\n",
      "Nauru 8.21\n",
      "New Caledonia 5.46\n",
      "New Zealand 4.59\n",
      "Niue N/A\n",
      "Norfolk Island N/A\n",
      "Northern Mariana Islands 5.5\n",
      "Palau 11.46\n",
      "Pitcairn N/A\n",
      "Solomon Islands 16.17\n",
      "Tonga 12.36\n",
      "Tuvalu 31.69\n",
      "Tokelau N/A\n",
      "Vanuatu 16.41\n",
      "Wallis and Futuna 4.49\n",
      "Samoa 20.5\n",
      "Argentina 9.96\n",
      "Bolivia 38.61\n",
      "Brazil 19.21\n",
      "Chile 7.02\n",
      "Paraguay 20.75\n",
      "Uruguay 8.97\n",
      "Peru 20.21\n",
      "French Guiana 14.6\n",
      "Guyana 33.56\n",
      "Suriname 27.07\n",
      "Venezuela 19.33\n",
      "Ecuador 17.93\n",
      "Falkland Islands N/A\n",
      "Algeria 21.76\n",
      "Libya 11.87\n",
      "Mali 104.34\n",
      "Mauritania 56.06\n",
      "Morocco 24.52\n",
      "Niger 86.27\n",
      "Tunisia 23.19\n",
      "Western Sahara 145.82\n",
      "Angola 79.99\n",
      "Congo 59.34\n",
      "Namibia 45.64\n",
      "Zaire 73.15\n",
      "Zambia 66.62\n",
      "Benin 57.09\n",
      "Burkina Faso 76.8\n",
      "Nigeria 74.09\n",
      "Togo 46.73\n",
      "Botswana 9.38\n",
      "South Africa 41.61\n",
      "Zimbabwe 26.55\n",
      "Cote dIvoire 60.16\n",
      "Ghana 38.52\n",
      "Burundi 63.44\n",
      "Rwanda 59.59\n",
      "Tanzania 43.74\n",
      "Cameroon 55.1\n",
      "Central African Republic 92.86\n",
      "Chad 90.3\n",
      "Equatorial Guinea 71.12\n",
      "Gabon 47.03\n",
      "Cape Verde 24.28\n",
      "Sudan 52.86\n",
      "South Sudan 68.16\n",
      "Comoros 65.31\n",
      "Guinea 55.24\n",
      "Liberia 69.19\n",
      "Djibouti 50.2\n",
      "Eritrea 38.44\n",
      "Ethiopia 55.77\n",
      "Somalia 100.14\n",
      "Kenya 40.71\n",
      "Gambia 65.74\n",
      "Senegal 52.72\n",
      "Guinea-Bissau 90.92\n",
      "Sierra Leone 73.29\n",
      "Uganda 60.82\n",
      "Lesotho 50.48\n",
      "Madagascar 44.88\n",
      "Malawi 48.01\n",
      "Mozambique 72.42\n",
      "Mauritius 10.59\n",
      "Mayotte 56.29\n",
      "Swaziland 54.82\n",
      "Reunion 7.5\n",
      "Saint Helena 17.63\n",
      "Sao Tome and Principe 49.16\n",
      "Seychelles 10.77\n"
     ]
    }
   ],
   "source": [
    "for country in root.findall('country'):\n",
    "    try:\n",
    "      print country.find('name').text,float(country.find('infant_mortality').text)\n",
    "    except AttributeError:\n",
    "      print('N/A')\n",
    "   \n",
    "    "
   ]
  },
  {
   "cell_type": "code",
   "execution_count": 169,
   "metadata": {
    "collapsed": false
   },
   "outputs": [
    {
     "data": {
      "text/plain": [
       "14.0"
      ]
     },
     "execution_count": 169,
     "metadata": {},
     "output_type": "execute_result"
    }
   ],
   "source": [
    "dictionary = dict()\n",
    "for country in root.findall('country'):\n",
    "    try:\n",
    "      dictionary[country.find('name').text] = float(country.find('infant_mortality').text)\n",
    "    except AttributeError:\n",
    "      dictionary[country.find('name').text] = float(\"inf\")\n",
    "dictionary['Oman']"
   ]
  },
  {
   "cell_type": "code",
   "execution_count": 170,
   "metadata": {
    "collapsed": false
   },
   "outputs": [
    {
     "name": "stdout",
     "output_type": "stream",
     "text": [
      "[('Monaco', 1.81), ('Japan', 2.13), ('Bermuda', 2.48), ('Norway', 2.48), ('Singapore', 2.53), ('Sweden', 2.6), ('Czech Republic', 2.63), ('Hong Kong', 2.73), ('Macao', 3.13), ('Iceland', 3.15), ('France', 3.31)]\n"
     ]
    }
   ],
   "source": [
    "# Exercise 1\n",
    "t = sorted(dictionary.items(), key = lambda x: x[1])\n",
    "print t[0:11]\n"
   ]
  },
  {
   "cell_type": "code",
   "execution_count": null,
   "metadata": {
    "collapsed": false
   },
   "outputs": [],
   "source": [
    "\n"
   ]
  },
  {
   "cell_type": "code",
   "execution_count": 54,
   "metadata": {
    "collapsed": false
   },
   "outputs": [],
   "source": [
    "\n",
    "\n",
    "  "
   ]
  },
  {
   "cell_type": "code",
   "execution_count": 207,
   "metadata": {
    "collapsed": false
   },
   "outputs": [
    {
     "name": "stdout",
     "output_type": "stream",
     "text": [
      "[('Pyongyang', 3255288), ('Busan', 3403135), ('New Taipei', 3939305), ('Al Iskandariyah', 4123869), ('Singapore', 5076700), ('Ho Chi Minh', 5968384), ('Hong Kong', 7055071), ('Bangkok', 7506700), ('Al Qahirah', 8471859), ('Seoul', 9708483)]\n"
     ]
    }
   ],
   "source": [
    "# Exercise 2\n",
    "dict2 = dict()\n",
    "for city in root.findall('./country/city'):\n",
    "    try:\n",
    "      dict2[city.find('name').text] = int(city.find('./population[last()]').text)\n",
    "    except AttributeError:\n",
    "      dict2[city.find('name').text] = float(\"-inf\")\n",
    "s = sorted(dict2.items(), key = lambda x: x[1])\n",
    "print s[-10:]"
   ]
  },
  {
   "cell_type": "markdown",
   "metadata": {},
   "source": [
    "# Exercise 3\n",
    "dict3 = dict()\n",
    "for element in document.iterfind('country'):\n",
    "    try:\n",
    "      print element.find('ethnicgroup').text, int(float(element.find('ethnicgroup').attrib['percentage'])*int(element.find('./population[last()]').text)/100)\n",
    "    except AttributeError:\n",
    "      print('n/a')"
   ]
  },
  {
   "cell_type": "code",
   "execution_count": 210,
   "metadata": {
    "collapsed": false
   },
   "outputs": [
    {
     "name": "stdout",
     "output_type": "stream",
     "text": [
      "0 Albanian 2660131\n",
      "1 Greek 10059145\n",
      "2 Macedonian 1322387\n",
      "3 Serb 5903032\n",
      "4 Montenegrin 266612\n",
      "5 Albanian 1595162\n",
      "6 Spanish 33589\n",
      "7 8 Mediterranean Nordic 46815916\n",
      "9 Austrian 7743280\n",
      "10 Czech 9548241\n",
      "11 German 73401020\n",
      "12 Hungarian 9172430\n",
      "13 14 Italian 1831\n",
      "15 Slovak 4625259\n",
      "16 Slovene 1873527\n",
      "17 German 5290760\n",
      "18 Belorussian 7682081\n",
      "19 Latvian 1305309\n",
      "20 Lithuanian 2502620\n",
      "21 German 500939\n",
      "22 Ukrainian 35502969\n",
      "23 Russian 114646210\n",
      "24 Fleming 6437741\n",
      "25 Luxembourgish 331182\n",
      "26 Dutch 13592447\n",
      "27 Muslim 1819978\n",
      "28 Croat 3844388\n",
      "29 Bulgarian 5601820\n",
      "30 Romanian 17928382\n",
      "31 Turkish 63935390\n",
      "32 33 Estonian 889290\n",
      "34 Scandinavian 48197\n",
      "35 Finn 5095033\n",
      "36 Norwegian 4167301\n",
      "37 Swede 7931391\n",
      "38 French 17317\n",
      "39 40 Norman-French 59807\n",
      "41 42 43 44 Celt 318452\n",
      "45 Irish 4010132\n",
      "46 47 Norman-French 97857\n",
      "48 49 50 Moldavian/Romanian 2783561\n",
      "51 52 Norwegian 1037\n",
      "53 English 53592326\n",
      "54 Tajik 6505775\n",
      "55 Han Chinese 1245058800\n",
      "56 Arab 2254490\n",
      "57 58 Tajik 6520718\n",
      "59 Turkmen 4285695\n",
      "60 Uzbek 22215416\n",
      "61 Armenian 2957260\n",
      "62 Georgian 3757424\n",
      "63 Azeri 8476989\n",
      "64 Arab 123459\n",
      "65 Bengali 146776916\n",
      "66 Indian 1028388\n",
      "67 Dravidian 302713744\n",
      "68 Bhote 366502\n",
      "69 Chinese 78674\n",
      "70 Malay 13893173\n",
      "71 Lao Loum 4429813\n",
      "72 Chinese 9237432\n",
      "73 Chinese 143649\n",
      "74 Viet/Kinh 76078375\n",
      "75 Kazakh 10831265\n",
      "76 77 Kyrgyz 3749013\n",
      "78 Chinese 6717997\n",
      "79 Chinese 524877\n",
      "80 Mongol 2614196\n",
      "81 82 Chinese 1450\n",
      "83 84 Greek 647113\n",
      "85 Jewish 10560\n",
      "86 Jewish 5669161\n",
      "87 European 836670\n",
      "88 Javanese 113456006\n",
      "89 90 91 Kurdish 4999576\n",
      "92 Armenian 62490\n",
      "93 Arab 1047053\n",
      "94 Arab 24423279\n",
      "95 Arab 18841998\n",
      "96 Armenian 173643\n",
      "97 Jewish 474356\n",
      "98 Japanese 126534212\n",
      "99 100 101 102 South Asian 4220768\n",
      "103 104 Chinese 1385067\n",
      "105 Indian 305898\n",
      "106 Indian 324908\n",
      "107 Sinhalese 14995155\n",
      "108 Chinese 3264215\n",
      "109 Black 11746\n",
      "110 111 European/Caribbean Amerindian 81187\n",
      "112 113 European 11112\n",
      "114 Mestizo 152416\n",
      "115 Mestizo 7536687\n",
      "116 Mestizo 67401922\n",
      "117 Black 34687\n",
      "118 Black 19316\n",
      "119 British Isles 9844325\n",
      "120 European 254958101\n",
      "121 Black 11138\n",
      "122 Mestizo 3532108\n",
      "123 Mestizo 4189021\n",
      "124 Mestizo 2860882\n",
      "125 European 7269928\n",
      "126 Carib Indians 70739\n",
      "127 Mulatto 6895055\n",
      "128 African 9401580\n",
      "129 Mestizo 5661378\n",
      "130 Mestizo 7241391\n",
      "131 Danish 7891\n",
      "132 African 103328\n",
      "133 Chinese 20231\n",
      "134 African 2058561\n",
      "135 Chinese 19614\n",
      "136 137 138 139 140 141 Mestizo 27643836\n",
      "142 White 2988082\n",
      "143 African 52352\n",
      "144 African 149532\n",
      "145 Basques Bretons 6312\n",
      "146 147 Chinese 13280\n",
      "148 African 28312\n",
      "149 150 Caucasian 1110\n",
      "151 European 21284458\n",
      "152 Polynesian 16637\n",
      "153 Indian 395857\n",
      "154 French 26827\n",
      "155 Chamorro 59121\n",
      "156 Micronesian 103058\n",
      "157 Micronesian 53158\n",
      "158 Polynesian 102843\n",
      "159 Chinese 802\n",
      "160 Vietnamese 3438\n",
      "161 European 2409483\n",
      "162 Polynesian 1611\n",
      "163 164 Asian 30336\n",
      "165 166 Bounty 66\n",
      "167 Chinese 1579\n",
      "168 169 Polynesian 9433\n",
      "170 Polynesian 1313\n",
      "171 French 9451\n",
      "172 Polynesian 12197\n",
      "173 Europeans 751\n",
      "174 European 41389415\n",
      "175 Quechua 3008178\n",
      "176 European 108886717\n",
      "177 Amerindian 490257\n",
      "178 Mestizo 6338999\n",
      "179 European 2891956\n",
      "180 Amerindian 13561143\n",
      "181 Amerindian 28505\n",
      "182 East Indian 325329\n",
      "183 Hindustani 200406\n",
      "184 185 Mestizo 9414274\n",
      "186 Christian 1969\n",
      "187 European 370628\n",
      "188 Berber Arab 5859393\n",
      "189 Mande 6992980\n",
      "190 Maur 1061210\n",
      "191 Jewish 65803\n",
      "192 Fula 1456790\n",
      "193 Jewish 109827\n",
      "194 195 European 243833\n",
      "196 197 198 Mangbetu-Azande 27986022\n",
      "199 European 143511\n",
      "200 African 9884045\n",
      "201 Mossi 4157471\n",
      "202 African 162651570\n",
      "203 African 6129243\n",
      "204 Batswana 1936316\n",
      "205 Indian 1346034\n",
      "206 Asian 130612\n",
      "207 Malinke 2493846\n",
      "208 European 49317\n",
      "209 210 Hutu 8412778\n",
      "211 Bantu 42682476\n",
      "212 African 2522793\n",
      "213 Baya 1478973\n",
      "214 215 216 217 European 4918\n",
      "218 Arab 24956401\n",
      "219 220 221 Malinke 3188691\n",
      "222 African 3760090\n",
      "223 Italian 41701\n",
      "224 Tigrinya 3157637\n",
      "225 Oromo 29090740\n",
      "226 Somali 8190747\n",
      "227 Arab 409091\n",
      "228 African 1863625\n",
      "229 Fulani 2296481\n",
      "230 European 15866\n",
      "231 Asian 57519\n",
      "232 Rwanda 2091408\n",
      "233 Sotho 2002894\n",
      "234 235 236 European 14220\n",
      "237 Creole 334014\n",
      "238 239 European 35794\n",
      "240 241 African descent 2831\n",
      "242 European 187356\n",
      "243 Seychellois 90945\n"
     ]
    },
    {
     "data": {
      "text/plain": [
       "[('Albanian', 2660131),\n",
       " ('Greek', 10059145),\n",
       " ('Macedonian', 1322387),\n",
       " ('Serb', 5903032),\n",
       " ('Montenegrin', 266612),\n",
       " ('Albanian', 1595162),\n",
       " ('Spanish', 33589),\n",
       " ('n/a', 0),\n",
       " ('Mediterranean Nordic', 46815916),\n",
       " ('Austrian', 7743280),\n",
       " ('Czech', 9548241),\n",
       " ('German', 73401020),\n",
       " ('Hungarian', 9172430),\n",
       " ('n/a', 0),\n",
       " ('Italian', 1831),\n",
       " ('Slovak', 4625259),\n",
       " ('Slovene', 1873527),\n",
       " ('German', 5290760),\n",
       " ('Belorussian', 7682081),\n",
       " ('Latvian', 1305309),\n",
       " ('Lithuanian', 2502620),\n",
       " ('German', 500939),\n",
       " ('Ukrainian', 35502969),\n",
       " ('Russian', 114646210),\n",
       " ('Fleming', 6437741),\n",
       " ('Luxembourgish', 331182),\n",
       " ('Dutch', 13592447),\n",
       " ('Muslim', 1819978),\n",
       " ('Croat', 3844388),\n",
       " ('Bulgarian', 5601820),\n",
       " ('Romanian', 17928382),\n",
       " ('Turkish', 63935390),\n",
       " ('n/a', 0),\n",
       " ('Estonian', 889290),\n",
       " ('Scandinavian', 48197),\n",
       " ('Finn', 5095033),\n",
       " ('Norwegian', 4167301),\n",
       " ('Swede', 7931391),\n",
       " ('French', 17317),\n",
       " ('n/a', 0),\n",
       " ('Norman-French', 59807),\n",
       " ('n/a', 0),\n",
       " ('n/a', 0),\n",
       " ('n/a', 0),\n",
       " ('Celt', 318452),\n",
       " ('Irish', 4010132),\n",
       " ('n/a', 0),\n",
       " ('Norman-French', 97857),\n",
       " ('n/a', 0),\n",
       " ('n/a', 0),\n",
       " ('Moldavian/Romanian', 2783561),\n",
       " ('n/a', 0),\n",
       " ('Norwegian', 1037),\n",
       " ('English', 53592326),\n",
       " ('Tajik', 6505775),\n",
       " ('Han Chinese', 1245058800),\n",
       " ('Arab', 2254490),\n",
       " ('n/a', 0),\n",
       " ('Tajik', 6520718),\n",
       " ('Turkmen', 4285695),\n",
       " ('Uzbek', 22215416),\n",
       " ('Armenian', 2957260),\n",
       " ('Georgian', 3757424),\n",
       " ('Azeri', 8476989),\n",
       " ('Arab', 123459),\n",
       " ('Bengali', 146776916),\n",
       " ('Indian', 1028388),\n",
       " ('Dravidian', 302713744),\n",
       " ('Bhote', 366502),\n",
       " ('Chinese', 78674),\n",
       " ('Malay', 13893173),\n",
       " ('Lao Loum', 4429813),\n",
       " ('Chinese', 9237432),\n",
       " ('Chinese', 143649),\n",
       " ('Viet/Kinh', 76078375),\n",
       " ('Kazakh', 10831265),\n",
       " ('n/a', 0),\n",
       " ('Kyrgyz', 3749013),\n",
       " ('Chinese', 6717997),\n",
       " ('Chinese', 524877),\n",
       " ('Mongol', 2614196),\n",
       " ('n/a', 0),\n",
       " ('Chinese', 1450),\n",
       " ('n/a', 0),\n",
       " ('Greek', 647113),\n",
       " ('Jewish', 10560),\n",
       " ('Jewish', 5669161),\n",
       " ('European', 836670),\n",
       " ('Javanese', 113456006),\n",
       " ('n/a', 0),\n",
       " ('n/a', 0),\n",
       " ('Kurdish', 4999576),\n",
       " ('Armenian', 62490),\n",
       " ('Arab', 1047053),\n",
       " ('Arab', 24423279),\n",
       " ('Arab', 18841998),\n",
       " ('Armenian', 173643),\n",
       " ('Jewish', 474356),\n",
       " ('Japanese', 126534212),\n",
       " ('n/a', 0),\n",
       " ('n/a', 0),\n",
       " ('n/a', 0),\n",
       " ('South Asian', 4220768),\n",
       " ('n/a', 0),\n",
       " ('Chinese', 1385067),\n",
       " ('Indian', 305898),\n",
       " ('Indian', 324908),\n",
       " ('Sinhalese', 14995155),\n",
       " ('Chinese', 3264215),\n",
       " ('Black', 11746),\n",
       " ('n/a', 0),\n",
       " ('European/Caribbean Amerindian', 81187),\n",
       " ('n/a', 0),\n",
       " ('European', 11112),\n",
       " ('Mestizo', 152416),\n",
       " ('Mestizo', 7536687),\n",
       " ('Mestizo', 67401922),\n",
       " ('Black', 34687),\n",
       " ('Black', 19316),\n",
       " ('British Isles', 9844325),\n",
       " ('European', 254958101),\n",
       " ('Black', 11138),\n",
       " ('Mestizo', 3532108),\n",
       " ('Mestizo', 4189021),\n",
       " ('Mestizo', 2860882),\n",
       " ('European', 7269928),\n",
       " ('Carib Indians', 70739),\n",
       " ('Mulatto', 6895055),\n",
       " ('African', 9401580),\n",
       " ('Mestizo', 5661378),\n",
       " ('Mestizo', 7241391),\n",
       " ('Danish', 7891),\n",
       " ('African', 103328),\n",
       " ('Chinese', 20231),\n",
       " ('African', 2058561),\n",
       " ('Chinese', 19614),\n",
       " ('n/a', 0),\n",
       " ('n/a', 0),\n",
       " ('n/a', 0),\n",
       " ('n/a', 0),\n",
       " ('n/a', 0),\n",
       " ('Mestizo', 27643836),\n",
       " ('White', 2988082),\n",
       " ('African', 52352),\n",
       " ('African', 149532),\n",
       " ('Basques Bretons', 6312),\n",
       " ('n/a', 0),\n",
       " ('Chinese', 13280),\n",
       " ('African', 28312),\n",
       " ('n/a', 0),\n",
       " ('Caucasian', 1110),\n",
       " ('European', 21284458),\n",
       " ('Polynesian', 16637),\n",
       " ('Indian', 395857),\n",
       " ('French', 26827),\n",
       " ('Chamorro', 59121),\n",
       " ('Micronesian', 103058),\n",
       " ('Micronesian', 53158),\n",
       " ('Polynesian', 102843),\n",
       " ('Chinese', 802),\n",
       " ('Vietnamese', 3438),\n",
       " ('European', 2409483),\n",
       " ('Polynesian', 1611),\n",
       " ('n/a', 0),\n",
       " ('Asian', 30336),\n",
       " ('n/a', 0),\n",
       " ('Bounty', 66),\n",
       " ('Chinese', 1579),\n",
       " ('n/a', 0),\n",
       " ('Polynesian', 9433),\n",
       " ('Polynesian', 1313),\n",
       " ('French', 9451),\n",
       " ('Polynesian', 12197),\n",
       " ('Europeans', 751),\n",
       " ('European', 41389415),\n",
       " ('Quechua', 3008178),\n",
       " ('European', 108886717),\n",
       " ('Amerindian', 490257),\n",
       " ('Mestizo', 6338999),\n",
       " ('European', 2891956),\n",
       " ('Amerindian', 13561143),\n",
       " ('Amerindian', 28505),\n",
       " ('East Indian', 325329),\n",
       " ('Hindustani', 200406),\n",
       " ('n/a', 0),\n",
       " ('Mestizo', 9414274),\n",
       " ('Christian', 1969),\n",
       " ('European', 370628),\n",
       " ('Berber Arab', 5859393),\n",
       " ('Mande', 6992980),\n",
       " ('Maur', 1061210),\n",
       " ('Jewish', 65803),\n",
       " ('Fula', 1456790),\n",
       " ('Jewish', 109827),\n",
       " ('n/a', 0),\n",
       " ('European', 243833),\n",
       " ('n/a', 0),\n",
       " ('n/a', 0),\n",
       " ('Mangbetu-Azande', 27986022),\n",
       " ('European', 143511),\n",
       " ('African', 9884045),\n",
       " ('Mossi', 4157471),\n",
       " ('African', 162651570),\n",
       " ('African', 6129243),\n",
       " ('Batswana', 1936316),\n",
       " ('Indian', 1346034),\n",
       " ('Asian', 130612),\n",
       " ('Malinke', 2493846),\n",
       " ('European', 49317),\n",
       " ('n/a', 0),\n",
       " ('Hutu', 8412778),\n",
       " ('Bantu', 42682476),\n",
       " ('African', 2522793),\n",
       " ('Baya', 1478973),\n",
       " ('n/a', 0),\n",
       " ('n/a', 0),\n",
       " ('n/a', 0),\n",
       " ('European', 4918),\n",
       " ('Arab', 24956401),\n",
       " ('n/a', 0),\n",
       " ('n/a', 0),\n",
       " ('Malinke', 3188691),\n",
       " ('African', 3760090),\n",
       " ('Italian', 41701),\n",
       " ('Tigrinya', 3157637),\n",
       " ('Oromo', 29090740),\n",
       " ('Somali', 8190747),\n",
       " ('Arab', 409091),\n",
       " ('African', 1863625),\n",
       " ('Fulani', 2296481),\n",
       " ('European', 15866),\n",
       " ('Asian', 57519),\n",
       " ('Rwanda', 2091408),\n",
       " ('Sotho', 2002894),\n",
       " ('n/a', 0),\n",
       " ('n/a', 0),\n",
       " ('European', 14220),\n",
       " ('Creole', 334014),\n",
       " ('n/a', 0),\n",
       " ('European', 35794),\n",
       " ('n/a', 0),\n",
       " ('African descent', 2831),\n",
       " ('European', 187356),\n",
       " ('Seychellois', 90945)]"
      ]
     },
     "execution_count": 210,
     "metadata": {},
     "output_type": "execute_result"
    }
   ],
   "source": [
    "dict4 = dict()\n",
    "list1 = list(range(0,244))\n",
    "for idx, element in enumerate(document.iterfind('country')):\n",
    "      try:\n",
    "         print idx, element.find('ethnicgroup').text, int(float(element.find('ethnicgroup').attrib['percentage'])*int(element.find('./population[last()]').text)/100)\n",
    "         list1[idx] = (element.find('ethnicgroup').text, int(float(element.find('ethnicgroup').attrib['percentage'])*int(element.find('./population[last()]').text)/100))       \n",
    "      except AttributeError:\n",
    "         list1[idx] = ('n/a',0)    \n",
    "         continue\n",
    "list1\n"
   ]
  },
  {
   "cell_type": "code",
   "execution_count": 211,
   "metadata": {
    "collapsed": false
   },
   "outputs": [
    {
     "name": "stdout",
     "output_type": "stream",
     "text": [
      "{'Estonian': [889290], 'Hindustani': [200406], 'Austrian': [7743280], 'Kyrgyz': [3749013], 'European': [836670, 11112, 254958101, 7269928, 21284458, 2409483, 41389415, 108886717, 2891956, 370628, 243833, 143511, 49317, 4918, 15866, 14220, 35794, 187356], 'Bulgarian': [5601820], 'Azeri': [8476989], 'Berber Arab': [5859393], 'Tigrinya': [3157637], 'Hutu': [8412778], 'Muslim': [1819978], 'French': [17317, 26827, 9451], 'Belorussian': [7682081], 'Bengali': [146776916], 'European/Caribbean Amerindian': [81187], 'Bantu': [42682476], 'Albanian': [2660131, 1595162], 'Italian': [1831, 41701], 'Chamorro': [59121], 'German': [73401020, 5290760, 500939], 'Tajik': [6505775, 6520718], 'Finn': [5095033], 'Basques Bretons': [6312], 'Mossi': [4157471], 'Europeans': [751], 'n/a': [0, 0, 0, 0, 0, 0, 0, 0, 0, 0, 0, 0, 0, 0, 0, 0, 0, 0, 0, 0, 0, 0, 0, 0, 0, 0, 0, 0, 0, 0, 0, 0, 0, 0, 0, 0, 0, 0, 0, 0, 0, 0, 0, 0, 0, 0, 0], 'Mande': [6992980], 'Maur': [1061210], 'South Asian': [4220768], 'White': [2988082], 'Danish': [7891], 'Macedonian': [1322387], 'Georgian': [3757424], 'Han Chinese': [1245058800], 'Norwegian': [4167301, 1037], 'Sinhalese': [14995155], 'Slovak': [4625259], 'Turkmen': [4285695], 'Croat': [3844388], 'Slovene': [1873527], 'Uzbek': [22215416], 'Scandinavian': [48197], 'Amerindian': [490257, 13561143, 28505], 'Greek': [10059145, 647113], 'Latvian': [1305309], 'Dravidian': [302713744], 'Mediterranean Nordic': [46815916], 'African': [9401580, 103328, 2058561, 52352, 149532, 28312, 9884045, 162651570, 6129243, 2522793, 3760090, 1863625], 'Chinese': [78674, 9237432, 143649, 6717997, 524877, 1450, 1385067, 3264215, 20231, 19614, 13280, 802, 1579], 'Malinke': [2493846, 3188691], 'Mestizo': [152416, 7536687, 67401922, 3532108, 4189021, 2860882, 5661378, 7241391, 27643836, 6338999, 9414274], 'Turkish': [63935390], 'Celt': [318452], 'English': [53592326], 'Seychellois': [90945], 'Indian': [1028388, 305898, 324908, 395857, 1346034], 'Black': [11746, 34687, 19316, 11138], 'Fula': [1456790], 'Lao Loum': [4429813], 'Creole': [334014], 'East Indian': [325329], 'Somali': [8190747], 'Hungarian': [9172430], 'Lithuanian': [2502620], 'Malay': [13893173], 'Luxembourgish': [331182], 'Polynesian': [16637, 102843, 1611, 9433, 1313, 12197], 'Russian': [114646210], 'Kazakh': [10831265], 'Carib Indians': [70739], 'Armenian': [2957260, 62490, 173643], 'Mongol': [2614196], 'Javanese': [113456006], 'Batswana': [1936316], 'Irish': [4010132], 'Czech': [9548241], 'Moldavian/Romanian': [2783561], 'Bhote': [366502], 'Rwanda': [2091408], 'Norman-French': [59807, 97857], 'Baya': [1478973], 'Montenegrin': [266612], 'Vietnamese': [3438], 'Romanian': [17928382], 'Dutch': [13592447], 'Bounty': [66], 'Caucasian': [1110], 'Christian': [1969], 'Ukrainian': [35502969], 'Jewish': [10560, 5669161, 474356, 65803, 109827], 'Mangbetu-Azande': [27986022], 'African descent': [2831], 'Arab': [2254490, 123459, 1047053, 24423279, 18841998, 24956401, 409091], 'Swede': [7931391], 'Asian': [30336, 130612, 57519], 'Kurdish': [4999576], 'British Isles': [9844325], 'Spanish': [33589], 'Serb': [5903032], 'Oromo': [29090740], 'Fulani': [2296481], 'Viet/Kinh': [76078375], 'Micronesian': [103058, 53158], 'Japanese': [126534212], 'Fleming': [6437741], 'Sotho': [2002894], 'Mulatto': [6895055], 'Quechua': [3008178]}\n"
     ]
    }
   ],
   "source": [
    "d = dict()\n",
    "for x, y in list1:\n",
    "    d.setdefault(x, []).append(y)\n",
    "print d \n"
   ]
  },
  {
   "cell_type": "code",
   "execution_count": 214,
   "metadata": {
    "collapsed": false
   },
   "outputs": [
    {
     "name": "stdout",
     "output_type": "stream",
     "text": [
      "{'Dutch': 13592447, 'Estonian': 889290, 'Hindustani': 200406, 'Austrian': 7743280, 'Kyrgyz': 3749013, 'European': 441003283, 'Bulgarian': 5601820, 'Azeri': 8476989, 'Berber Arab': 5859393, 'Tigrinya': 3157637, 'Hutu': 8412778, 'Muslim': 1819978, 'Fula': 1456790, 'Belorussian': 7682081, 'Bengali': 146776916, 'European/Caribbean Amerindian': 81187, 'Bantu': 42682476, 'Albanian': 4255293, 'Italian': 43532, 'Chamorro': 59121, 'German': 79192719, 'Slovak': 4625259, 'Finn': 5095033, 'Black': 76887, 'Mossi': 4157471, 'English': 53592326, 'Europeans': 751, 'n/a': 0, 'Mande': 6992980, 'Maur': 1061210, 'South Asian': 4220768, 'White': 2988082, 'Danish': 7891, 'Macedonian': 1322387, 'Georgian': 3757424, 'Han Chinese': 1245058800, 'Norwegian': 4168338, 'Sinhalese': 14995155, 'Tajik': 13026493, 'Turkmen': 4285695, 'Croat': 3844388, 'Slovene': 1873527, 'Uzbek': 22215416, 'Scandinavian': 48197, 'Amerindian': 14079905, 'Greek': 10706258, 'Latvian': 1305309, 'Dravidian': 302713744, 'Mediterranean Nordic': 46815916, 'Chinese': 21408867, 'Malinke': 5682537, 'Mestizo': 141972914, 'Turkish': 63935390, 'Celt': 318452, 'African': 198605031, 'Seychellois': 90945, 'Indian': 3401085, 'Basques Bretons': 6312, 'French': 53595, 'Lao Loum': 4429813, 'Creole': 334014, 'East Indian': 325329, 'Hungarian': 9172430, 'Lithuanian': 2502620, 'Malay': 13893173, 'Luxembourgish': 331182, 'Polynesian': 144034, 'Russian': 114646210, 'Kazakh': 10831265, 'Carib Indians': 70739, 'Armenian': 3193393, 'Mongol': 2614196, 'Javanese': 113456006, 'Batswana': 1936316, 'Irish': 4010132, 'Czech': 9548241, 'Moldavian/Romanian': 2783561, 'Bhote': 366502, 'Rwanda': 2091408, 'Micronesian': 156216, 'Baya': 1478973, 'Montenegrin': 266612, 'Vietnamese': 3438, 'Romanian': 17928382, 'Bounty': 66, 'Somali': 8190747, 'Caucasian': 1110, 'Christian': 1969, 'Ukrainian': 35502969, 'Jewish': 6329707, 'Mangbetu-Azande': 27986022, 'African descent': 2831, 'Arab': 72055771, 'Swede': 7931391, 'Mulatto': 6895055, 'Kurdish': 4999576, 'British Isles': 9844325, 'Quechua': 3008178, 'Serb': 5903032, 'Oromo': 29090740, 'Fulani': 2296481, 'Viet/Kinh': 76078375, 'Norman-French': 157664, 'Japanese': 126534212, 'Fleming': 6437741, 'Sotho': 2002894, 'Asian': 218467, 'Spanish': 33589}\n"
     ]
    }
   ],
   "source": [
    "z = {k:sum(v) for k,v in d.items()}\n",
    "print z"
   ]
  },
  {
   "cell_type": "code",
   "execution_count": 217,
   "metadata": {
    "collapsed": false
   },
   "outputs": [
    {
     "name": "stdout",
     "output_type": "stream",
     "text": [
      "[('German', 79192719), ('Javanese', 113456006), ('Russian', 114646210), ('Japanese', 126534212), ('Mestizo', 141972914), ('Bengali', 146776916), ('African', 198605031), ('Dravidian', 302713744), ('European', 441003283), ('Han Chinese', 1245058800)]\n"
     ]
    }
   ],
   "source": [
    "# Excercise 3\n",
    "z2 = sorted(z.items(), key = lambda x: x[1])\n",
    "print z2[-10:]"
   ]
  },
  {
   "cell_type": "code",
   "execution_count": 234,
   "metadata": {
    "collapsed": false
   },
   "outputs": [
    {
     "name": "stdout",
     "output_type": "stream",
     "text": [
      "[('Caspian Sea, R', 386400.0)]\n"
     ]
    }
   ],
   "source": [
    "# Exercise 4\n",
    "dict4 = dict()\n",
    "for idx, element in enumerate(document.iterfind('lake')):\n",
    "        try: \n",
    "           dict4[element.find('name').text + \", \" + element.find('located').attrib['country'] ] = float(element.find('area').text)\n",
    "        except AttributeError:\n",
    "           dict4[element.find('name').text] = 0\n",
    "        \n",
    "t3 = sorted(dict4.items(), key = lambda x: x[1])\n",
    "print t3[-1:]"
   ]
  },
  {
   "cell_type": "code",
   "execution_count": 235,
   "metadata": {
    "collapsed": false
   },
   "outputs": [
    {
     "name": "stdout",
     "output_type": "stream",
     "text": [
      "[('Amazonas, CO', 6448.0)]\n"
     ]
    }
   ],
   "source": [
    "# Exercise 4\n",
    "dict5 = dict()\n",
    "for idx, element in enumerate(document.iterfind('river')):\n",
    "        try: \n",
    "           dict5[element.find('name').text + \", \" + element.find('located').attrib['country'] ] = float(element.find('length').text)\n",
    "        except AttributeError:\n",
    "           dict5[element.find('name').text] = 0\n",
    "        \n",
    "t4 = sorted(dict5.items(), key = lambda x: x[1])\n",
    "print t4[-1:]"
   ]
  },
  {
   "cell_type": "code",
   "execution_count": 249,
   "metadata": {
    "collapsed": false
   },
   "outputs": [
    {
     "name": "stdout",
     "output_type": "stream",
     "text": [
      "('El Alto Intl, BOL', 4063.0)\n"
     ]
    }
   ],
   "source": [
    "# Exercise 4\n",
    "dict6 = dict()\n",
    "for idx, element in enumerate(document.iterfind('airport')):\n",
    "        try: \n",
    "           dict6[element.find('name').text + \", \" + element.find('.').attrib['country'] ] = float(element.find('elevation').text)\n",
    "        except TypeError:\n",
    "           dict6[element.find('name').text] = 0\n",
    "        except AttributeError:\n",
    "           dict6[element.find('name').text] = 0\n",
    "        \n",
    "t5 = sorted(dict6.items(), key = lambda x: x[1])\n",
    "print t5[-1]"
   ]
  },
  {
   "cell_type": "code",
   "execution_count": 250,
   "metadata": {
    "collapsed": false
   },
   "outputs": [
    {
     "data": {
      "text/plain": [
       "u'C:\\\\Users\\\\jason\\\\Desktop\\\\slide_rule\\\\data_wrangling_xml'"
      ]
     },
     "execution_count": 250,
     "metadata": {},
     "output_type": "execute_result"
    }
   ],
   "source": [
    "pwd"
   ]
  },
  {
   "cell_type": "code",
   "execution_count": null,
   "metadata": {
    "collapsed": true
   },
   "outputs": [],
   "source": []
  },
  {
   "cell_type": "code",
   "execution_count": null,
   "metadata": {
    "collapsed": true
   },
   "outputs": [],
   "source": []
  },
  {
   "cell_type": "code",
   "execution_count": null,
   "metadata": {
    "collapsed": true
   },
   "outputs": [],
   "source": []
  },
  {
   "cell_type": "code",
   "execution_count": null,
   "metadata": {
    "collapsed": true
   },
   "outputs": [],
   "source": []
  },
  {
   "cell_type": "code",
   "execution_count": null,
   "metadata": {
    "collapsed": true
   },
   "outputs": [],
   "source": []
  },
  {
   "cell_type": "code",
   "execution_count": null,
   "metadata": {
    "collapsed": true
   },
   "outputs": [],
   "source": []
  }
 ],
 "metadata": {
  "kernelspec": {
   "display_name": "Python 2",
   "language": "python",
   "name": "python2"
  },
  "language_info": {
   "codemirror_mode": {
    "name": "ipython",
    "version": 2
   },
   "file_extension": ".py",
   "mimetype": "text/x-python",
   "name": "python",
   "nbconvert_exporter": "python",
   "pygments_lexer": "ipython2",
   "version": "2.7.10"
  }
 },
 "nbformat": 4,
 "nbformat_minor": 0
}
